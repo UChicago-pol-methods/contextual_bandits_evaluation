{
 "cells": [
  {
   "cell_type": "code",
   "execution_count": 1,
   "metadata": {
    "collapsed": false,
    "jupyter": {
     "outputs_hidden": false
    },
    "pycharm": {
     "name": "#%%\n"
    }
   },
   "outputs": [],
   "source": [
    "import os\n",
    "from adaptive.inference import analyze, aw_scores\n",
    "from adaptive.experiment import *\n",
    "from adaptive.ridge import *\n",
    "from adaptive.datagen import *\n",
    "from adaptive.saving import *\n",
    "import random\n",
    "random.seed(60637) \n",
    "np.random.seed(60637)\n",
    "seed = random.randrange(99999)"
   ]
  },
  {
   "cell_type": "code",
   "execution_count": 2,
   "metadata": {
    "collapsed": false,
    "jupyter": {
     "outputs_hidden": false
    },
    "pycharm": {
     "name": "#%%\n"
    }
   },
   "outputs": [],
   "source": [
    "K = 4 # Number of arms\n",
    "p = 3 # Number of features\n",
    "T = 7000 # Sample size\n",
    "batch_sizes = [200] + [100] * 68 # Batch sizes\n",
    "signal_strength = 0.5\n",
    "config = dict(T=T, K=K, p=p, noise_form='normal', noise_std=1, noise_scale=0.5, floor_start=1/K,\n",
    "      bandit_model = 'RegionModel', floor_decay=0.8, dgp='synthetic_signal')\n",
    "\n",
    "# Collect data from environment, run experiment\n",
    "data_exp, mus = simple_tree_data(T=T, K=K, p=p, noise_std=1,\n",
    "    split=0.5, signal_strength=signal_strength, noise_form='normal', seed = seed)\n",
    "xs, ys = data_exp['xs'], data_exp['ys']\n",
    "data = run_experiment(xs, ys, config, batch_sizes=batch_sizes)\n",
    "yobs, ws, probs = data['yobs'], data['ws'], data['probs']"
   ]
  },
  {
   "cell_type": "code",
   "execution_count": 3,
   "metadata": {
    "collapsed": false,
    "jupyter": {
     "outputs_hidden": false
    },
    "pycharm": {
     "name": "#%%\n"
    }
   },
   "outputs": [],
   "source": [
    "# Estimate muhat and gammahat\n",
    "muhat = ridge_muhat_lfo_pai(xs, ws, yobs, K, batch_sizes)\n",
    "gammahat = aw_scores(yobs=yobs, ws=ws, balwts=1 / collect(collect3(probs), ws),\n",
    "                     K=K, muhat=collect3(muhat))"
   ]
  },
  {
   "cell_type": "markdown",
   "metadata": {},
   "source": [
    "Best arm"
   ]
  },
  {
   "cell_type": "code",
   "execution_count": 4,
   "metadata": {},
   "outputs": [
    {
     "data": {
      "text/plain": [
       "{'uniform': array([-0.05295674,  0.09204418]),\n",
       " 'propscore_expected': array([0.18769294, 0.00156756]),\n",
       " 'propscore_X': array([0.19502784, 0.00068292]),\n",
       " 'lvdl_expected': array([0.13694664, 0.0038961 ]),\n",
       " 'lvdl_X': array([0.16564352, 0.00134816])}"
      ]
     },
     "execution_count": 4,
     "metadata": {},
     "output_type": "execute_result"
    }
   ],
   "source": [
    "best_mtx = np.zeros((T, K))\n",
    "best_mtx[:, np.argmax(mus)] = 1\n",
    "\n",
    "analyze(probs=probs,\n",
    "                gammahat=gammahat,\n",
    "                policy=best_mtx,\n",
    "                policy_value=0)"
   ]
  },
  {
   "cell_type": "markdown",
   "metadata": {},
   "source": [
    "Optimal policy"
   ]
  },
  {
   "cell_type": "code",
   "execution_count": 5,
   "metadata": {
    "collapsed": false,
    "jupyter": {
     "outputs_hidden": false
    },
    "pycharm": {
     "name": "#%%\n"
    }
   },
   "outputs": [
    {
     "data": {
      "text/plain": [
       "{'uniform': array([0.46466481, 0.0032442 ]),\n",
       " 'propscore_expected': array([0.40170754, 0.00317846]),\n",
       " 'propscore_X': array([5.14734972e-01, 3.21614330e-04]),\n",
       " 'lvdl_expected': array([0.44504472, 0.00333831]),\n",
       " 'lvdl_X': array([5.01188618e-01, 4.91718301e-04])}"
      ]
     },
     "execution_count": 5,
     "metadata": {},
     "output_type": "execute_result"
    }
   ],
   "source": [
    "optimal_mtx = expand(np.ones(T), np.argmax(data_exp['muxs'], axis=1), K)\n",
    "analyze(probs=probs,\n",
    "                gammahat=gammahat,\n",
    "                policy=optimal_mtx,\n",
    "                policy_value=0)"
   ]
  },
  {
   "cell_type": "markdown",
   "metadata": {},
   "source": [
    "Contrasts"
   ]
  },
  {
   "cell_type": "code",
   "execution_count": 6,
   "metadata": {},
   "outputs": [
    {
     "data": {
      "text/plain": [
       "{'uniform': array([0.51762156, 0.09164901]),\n",
       " 'propscore_expected': array([0.31753274, 0.00630647]),\n",
       " 'propscore_X': array([0.28699802, 0.00297868]),\n",
       " 'lvdl_expected': array([0.37517445, 0.01329507]),\n",
       " 'lvdl_X': array([0.34038577, 0.00827233])}"
      ]
     },
     "execution_count": 6,
     "metadata": {},
     "output_type": "execute_result"
    }
   ],
   "source": [
    "contrast_mtx = optimal_mtx - best_mtx\n",
    "analyze(probs=probs,\n",
    "                gammahat=gammahat,\n",
    "                policy=contrast_mtx,\n",
    "                policy_value=0)"
   ]
  },
  {
   "cell_type": "code",
   "execution_count": 7,
   "metadata": {
    "collapsed": false,
    "jupyter": {
     "outputs_hidden": false
    },
    "pycharm": {
     "name": "#%%\n"
    }
   },
   "outputs": [],
   "source": [
    "np.savetxt(\"results/muxs.csv\", data_exp['muxs'], delimiter=\",\")\n",
    "np.savetxt(\"results/gammahat.csv\", gammahat, delimiter=\",\")"
   ]
  },
  {
   "cell_type": "code",
   "execution_count": 8,
   "metadata": {
    "collapsed": false,
    "jupyter": {
     "outputs_hidden": false
    },
    "pycharm": {
     "name": "#%%\n"
    }
   },
   "outputs": [],
   "source": [
    "np.save(\"results/probs\", probs)"
   ]
  }
 ],
 "metadata": {
  "kernelspec": {
   "display_name": "aw_contextual",
   "language": "python",
   "name": "python3"
  },
  "language_info": {
   "codemirror_mode": {
    "name": "ipython",
    "version": 3
   },
   "file_extension": ".py",
   "mimetype": "text/x-python",
   "name": "python",
   "nbconvert_exporter": "python",
   "pygments_lexer": "ipython3",
   "version": "3.11.8"
  }
 },
 "nbformat": 4,
 "nbformat_minor": 4
}
