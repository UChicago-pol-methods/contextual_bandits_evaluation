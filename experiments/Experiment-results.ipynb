{
 "cells": [
  {
   "cell_type": "code",
   "execution_count": 1,
   "id": "5806b326-9038-451a-abdc-366552c757de",
   "metadata": {},
   "outputs": [],
   "source": [
    "import sys\n",
    "from adaptive.inference import analyze, aw_scores\n",
    "import argparse\n",
    "import os\n",
    "import pickle\n",
    "from time import time\n",
    "from adaptive.experiment import *\n",
    "from adaptive.ridge import *\n",
    "from adaptive.datagen import *\n",
    "from adaptive.saving import *"
   ]
  },
  {
   "cell_type": "code",
   "execution_count": 2,
   "id": "a910843b-d84e-4772-8bbc-b49ca9fdff35",
   "metadata": {},
   "outputs": [
    {
     "data": {
      "text/plain": [
       "_StoreAction(option_strings=['-T', '--T'], dest='T', nargs=None, const=None, default=7000, type=<class 'int'>, choices=None, required=False, help='sample size', metavar=None)"
      ]
     },
     "execution_count": 2,
     "metadata": {},
     "output_type": "execute_result"
    }
   ],
   "source": [
    "parser = argparse.ArgumentParser(description='Process DGP settings')\n",
    "parser.add_argument(\n",
    "    '-n',\n",
    "    '--name',\n",
    "    type=str,\n",
    "    default='synthetic',\n",
    "    help='saving name of experiments')\n",
    "parser.add_argument(\n",
    "    '--floor_decay',\n",
    "    type=float,\n",
    "    default=0.8,\n",
    "    help='assignment probability floor decay')\n",
    "parser.add_argument(\n",
    "    '--split',\n",
    "    type=float,\n",
    "    default=0.5,\n",
    "    help='boundary split')\n",
    "parser.add_argument(\n",
    "    '-b',\n",
    "    '--bandit_model',\n",
    "    type=str,\n",
    "    default='RegionModel',\n",
    "    help='bandit model')\n",
    "parser.add_argument(\n",
    "    '--noise_form',\n",
    "    type=str,\n",
    "    default='normal',\n",
    "    help='noise function')\n",
    "parser.add_argument(\n",
    "    '-s',\n",
    "    '--sims',\n",
    "    type=int,\n",
    "    default=1,\n",
    "    help='number of simulations')\n",
    "parser.add_argument(\n",
    "    '--signal',\n",
    "    type=float,\n",
    "    default=0.5,\n",
    "    help='signal strength')\n",
    "parser.add_argument(\n",
    "    '-T',\n",
    "    '--T',\n",
    "    type=int,\n",
    "    default=7000,\n",
    "    help='sample size')"
   ]
  },
  {
   "cell_type": "code",
   "execution_count": 3,
   "id": "4e488cdc-671f-4e79-ae1d-e7f0d4b81879",
   "metadata": {},
   "outputs": [],
   "source": [
    "\"\"\" Experiment configuration \"\"\"\n",
    "args = parser.parse_args(args=[])\n",
    "num_sims = args.sims\n",
    "save_every = 20"
   ]
  },
  {
   "cell_type": "code",
   "execution_count": 4,
   "id": "1354bfc8-4f3b-4439-b3ba-36164d15d162",
   "metadata": {},
   "outputs": [
    {
     "data": {
      "text/plain": [
       "Namespace(name='synthetic', floor_decay=0.8, split=0.5, bandit_model='RegionModel', noise_form='normal', sims=1, signal=0.5, T=7000)"
      ]
     },
     "execution_count": 4,
     "metadata": {},
     "output_type": "execute_result"
    }
   ],
   "source": [
    "args"
   ]
  },
  {
   "cell_type": "code",
   "execution_count": null,
   "id": "632a892c-149b-4917-b63d-092203a87723",
   "metadata": {},
   "outputs": [],
   "source": [
    "results_list = []\n",
    "for s in range(num_sims):\n",
    "    # configs\n",
    "    floor_decay = args.floor_decay\n",
    "    bandit_model = args.bandit_model \n",
    "    K = 4\n",
    "    p = 3\n",
    "    T = args.T\n",
    "    config = {\n",
    "        'T': T,\n",
    "        'K': K,\n",
    "        'p': p,\n",
    "        'noise_std': 1,\n",
    "        'signal': args.signal, \n",
    "        'experiment': args.name,\n",
    "        'dgp': 'tree',\n",
    "        'split': args.split,\n",
    "        'floor_start': 1 / K,\n",
    "        'floor_decay': floor_decay,\n",
    "        'noise_form': args.noise_form,\n",
    "        'bandit_model': bandit_model,\n",
    "        'batch_size': 100,\n",
    "        'time_explore': 50 * K,\n",
    "\n",
    "    }\n",
    "    batch_sizes = [config['time_explore']] + [config['batch_size']\n",
    "                    ] * int((T - config['time_explore'])/config['batch_size'])\n",
    "    if np.sum(batch_sizes) < T:\n",
    "        batch_sizes[-1] += T - np.sum(batch_sizes)\n",
    "\n",
    "    if (s+1) % 20 == 0:\n",
    "        print(f'Simulation {s+1}/{num_sims}.')\n",
    "\n",
    "    \"\"\" Data generation \"\"\"\n",
    "    # Collect data from environment\n",
    "    data_exp, mus = simple_tree_data(\n",
    "        T=T, K=K, p=p, noise_std=config['noise_std'], \n",
    "            split=config['split'], signal_strength=args.signal,\n",
    "        noise_form=args.noise_form)\n",
    "    xs, ys = data_exp['xs'], data_exp['ys']\n",
    "\n",
    "    # Run the contextual bandits experiment on the simulated data\n",
    "    data = run_experiment(xs, ys, config, batch_sizes=batch_sizes)\n",
    "    yobs, ws, probs = data['yobs'], data['ws'], data['probs']\n",
    "\n",
    "    \"\"\" Target policies \"\"\"\n",
    "    policy_names = ['random', 'optimal', 'best_arm']\n",
    "    policy_values = [np.mean(mus), args.signal, max(mus)]\n",
    "\n",
    "    policy_mtx = []\n",
    "    # add random policy\n",
    "    policy_mtx.append(np.ones((T, K)) / K)  \n",
    "\n",
    "    # add optimal policy\n",
    "    policy_mtx.append(data_exp['wxs'])\n",
    "\n",
    "    # add best arm policy\n",
    "    best_mtx = np.zeros((T, K))\n",
    "    best_mtx[:, np.argmax(mus)] = 1\n",
    "    policy_mtx.append(best_mtx)  \n",
    "\n",
    "    # add contrast\n",
    "    policy_names.append('optimal-best_arm')\n",
    "    policy_mtx.append(policy_mtx[1] - policy_mtx[2])\n",
    "    policy_values.append(policy_values[1] - policy_values[2])\n",
    "\n",
    "    \"\"\" Evaluation \"\"\"\n",
    "    # Estimate muhat and gammahat\n",
    "    muhat = ridge_muhat_lfo_pai(data_exp['xs'], ws, yobs, K, batch_sizes)\n",
    "    balwts = 1 / collect(collect3(probs), ws)\n",
    "    gammahat = aw_scores(yobs=yobs, ws=ws, balwts=balwts,\n",
    "                         K=K, muhat=collect3(muhat))\n",
    "    \n",
    "\n",
    "    for Tt in [1000, 3000, 5000, 7000]:\n",
    "        muhat_DM = ridge_muhat_DM(xs[:Tt], ws[:Tt], yobs[:Tt], K)\n",
    "        for policy_m, policy_v, policy_n in zip(policy_mtx, policy_values, policy_names):\n",
    "            analysis = analyze(\n",
    "                probs=probs[:Tt, :Tt],\n",
    "                gammahat=gammahat[:Tt],\n",
    "                policy=policy_m[:Tt],\n",
    "                policy_value=policy_v,\n",
    "            )\n",
    "            DM_estimate = np.sum(policy_m[:Tt] * muhat_DM, 1)\n",
    "            DM_estimate_var = np.sum((yobs[:Tt] - np.mean(DM_estimate))**2) / (Tt ** 2)\n",
    "            analysis['DM'] = np.array([np.mean(DM_estimate)-policy_v,\n",
    "                DM_estimate_var])\n",
    "            new_config = deepcopy(config)\n",
    "            new_config['policy'] = policy_n\n",
    "            new_config['policy_value'] = policy_v\n",
    "            new_config['T'] = Tt\n",
    "            results = {'stats': analysis, 'config': new_config}\n",
    "            results_list.append(results)"
   ]
  },
  {
   "cell_type": "code",
   "execution_count": null,
   "id": "ce4efd07-5768-499b-b971-93e8264effd9",
   "metadata": {},
   "outputs": [],
   "source": [
    "results_list"
   ]
  },
  {
   "cell_type": "code",
   "execution_count": null,
   "id": "6b9b55b1-c604-4f46-b182-6a3504745139",
   "metadata": {},
   "outputs": [],
   "source": []
  }
 ],
 "metadata": {
  "kernelspec": {
   "display_name": "adaptive_CI",
   "language": "python",
   "name": "adaptive_ci"
  },
  "language_info": {
   "codemirror_mode": {
    "name": "ipython",
    "version": 3
   },
   "file_extension": ".py",
   "mimetype": "text/x-python",
   "name": "python",
   "nbconvert_exporter": "python",
   "pygments_lexer": "ipython3",
   "version": "3.9.19"
  }
 },
 "nbformat": 4,
 "nbformat_minor": 5
}
